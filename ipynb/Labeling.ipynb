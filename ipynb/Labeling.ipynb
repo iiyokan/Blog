{
 "cells": [
  {
   "cell_type": "code",
   "execution_count": 1,
   "id": "eef27a8d",
   "metadata": {},
   "outputs": [],
   "source": [
    "import numpy as np\n",
    "import pandas as pd\n",
    "import matplotlib.pyplot as plt\n",
    "%matplotlib inline\n",
    "from datetime import datetime\n",
    "\n",
    "import MetaTrader5 as mt5\n",
    "import pytz\n",
    "\n",
    "from IPython.display import display, display_markdown"
   ]
  },
  {
   "cell_type": "markdown",
   "id": "200c151f",
   "metadata": {},
   "source": [
    "### MT5を利用してEURJPYの日足データ(標準バー)を取得する(1994/01/01~2020/12/31)"
   ]
  },
  {
   "cell_type": "code",
   "execution_count": 2,
   "id": "217fed7c",
   "metadata": {},
   "outputs": [
    {
     "data": {
      "text/html": [
       "<div>\n",
       "<style scoped>\n",
       "    .dataframe tbody tr th:only-of-type {\n",
       "        vertical-align: middle;\n",
       "    }\n",
       "\n",
       "    .dataframe tbody tr th {\n",
       "        vertical-align: top;\n",
       "    }\n",
       "\n",
       "    .dataframe thead th {\n",
       "        text-align: right;\n",
       "    }\n",
       "</style>\n",
       "<table border=\"1\" class=\"dataframe\">\n",
       "  <thead>\n",
       "    <tr style=\"text-align: right;\">\n",
       "      <th></th>\n",
       "      <th>time</th>\n",
       "      <th>open</th>\n",
       "      <th>high</th>\n",
       "      <th>low</th>\n",
       "      <th>close</th>\n",
       "      <th>tick_volume</th>\n",
       "      <th>spread</th>\n",
       "      <th>real_volume</th>\n",
       "    </tr>\n",
       "  </thead>\n",
       "  <tbody>\n",
       "    <tr>\n",
       "      <th>0</th>\n",
       "      <td>1994-01-03</td>\n",
       "      <td>125.85</td>\n",
       "      <td>126.70</td>\n",
       "      <td>125.78</td>\n",
       "      <td>126.36</td>\n",
       "      <td>1331</td>\n",
       "      <td>50</td>\n",
       "      <td>0</td>\n",
       "    </tr>\n",
       "    <tr>\n",
       "      <th>1</th>\n",
       "      <td>1994-01-04</td>\n",
       "      <td>126.28</td>\n",
       "      <td>127.50</td>\n",
       "      <td>126.28</td>\n",
       "      <td>126.80</td>\n",
       "      <td>1921</td>\n",
       "      <td>50</td>\n",
       "      <td>0</td>\n",
       "    </tr>\n",
       "    <tr>\n",
       "      <th>2</th>\n",
       "      <td>1994-01-05</td>\n",
       "      <td>126.88</td>\n",
       "      <td>127.89</td>\n",
       "      <td>126.49</td>\n",
       "      <td>127.05</td>\n",
       "      <td>2631</td>\n",
       "      <td>50</td>\n",
       "      <td>0</td>\n",
       "    </tr>\n",
       "    <tr>\n",
       "      <th>3</th>\n",
       "      <td>1994-01-06</td>\n",
       "      <td>127.09</td>\n",
       "      <td>127.28</td>\n",
       "      <td>126.14</td>\n",
       "      <td>126.23</td>\n",
       "      <td>1421</td>\n",
       "      <td>50</td>\n",
       "      <td>0</td>\n",
       "    </tr>\n",
       "    <tr>\n",
       "      <th>4</th>\n",
       "      <td>1994-01-07</td>\n",
       "      <td>126.34</td>\n",
       "      <td>126.74</td>\n",
       "      <td>125.72</td>\n",
       "      <td>126.71</td>\n",
       "      <td>1671</td>\n",
       "      <td>50</td>\n",
       "      <td>0</td>\n",
       "    </tr>\n",
       "    <tr>\n",
       "      <th>5</th>\n",
       "      <td>1994-01-10</td>\n",
       "      <td>126.57</td>\n",
       "      <td>127.06</td>\n",
       "      <td>126.27</td>\n",
       "      <td>126.60</td>\n",
       "      <td>1551</td>\n",
       "      <td>50</td>\n",
       "      <td>0</td>\n",
       "    </tr>\n",
       "    <tr>\n",
       "      <th>6</th>\n",
       "      <td>1994-01-11</td>\n",
       "      <td>126.68</td>\n",
       "      <td>127.00</td>\n",
       "      <td>126.05</td>\n",
       "      <td>126.07</td>\n",
       "      <td>1291</td>\n",
       "      <td>50</td>\n",
       "      <td>0</td>\n",
       "    </tr>\n",
       "    <tr>\n",
       "      <th>7</th>\n",
       "      <td>1994-01-12</td>\n",
       "      <td>126.03</td>\n",
       "      <td>126.83</td>\n",
       "      <td>125.96</td>\n",
       "      <td>126.55</td>\n",
       "      <td>1221</td>\n",
       "      <td>50</td>\n",
       "      <td>0</td>\n",
       "    </tr>\n",
       "    <tr>\n",
       "      <th>8</th>\n",
       "      <td>1994-01-13</td>\n",
       "      <td>126.55</td>\n",
       "      <td>127.00</td>\n",
       "      <td>124.68</td>\n",
       "      <td>124.94</td>\n",
       "      <td>3031</td>\n",
       "      <td>50</td>\n",
       "      <td>0</td>\n",
       "    </tr>\n",
       "    <tr>\n",
       "      <th>9</th>\n",
       "      <td>1994-01-14</td>\n",
       "      <td>124.97</td>\n",
       "      <td>125.13</td>\n",
       "      <td>123.51</td>\n",
       "      <td>124.00</td>\n",
       "      <td>2271</td>\n",
       "      <td>50</td>\n",
       "      <td>0</td>\n",
       "    </tr>\n",
       "  </tbody>\n",
       "</table>\n",
       "</div>"
      ],
      "text/plain": [
       "        time    open    high     low   close  tick_volume  spread  real_volume\n",
       "0 1994-01-03  125.85  126.70  125.78  126.36         1331      50            0\n",
       "1 1994-01-04  126.28  127.50  126.28  126.80         1921      50            0\n",
       "2 1994-01-05  126.88  127.89  126.49  127.05         2631      50            0\n",
       "3 1994-01-06  127.09  127.28  126.14  126.23         1421      50            0\n",
       "4 1994-01-07  126.34  126.74  125.72  126.71         1671      50            0\n",
       "5 1994-01-10  126.57  127.06  126.27  126.60         1551      50            0\n",
       "6 1994-01-11  126.68  127.00  126.05  126.07         1291      50            0\n",
       "7 1994-01-12  126.03  126.83  125.96  126.55         1221      50            0\n",
       "8 1994-01-13  126.55  127.00  124.68  124.94         3031      50            0\n",
       "9 1994-01-14  124.97  125.13  123.51  124.00         2271      50            0"
      ]
     },
     "execution_count": 2,
     "metadata": {},
     "output_type": "execute_result"
    }
   ],
   "source": [
    "# connect to MetaTrader 5\n",
    "if not mt5.initialize():\n",
    "    print(\"initialize() failed\")\n",
    "    mt5.shutdown()\n",
    "\n",
    "# set time zone to UTC\n",
    "timezone = pytz.utc\n",
    "\n",
    "# create 'datetime' objects in UTC time zone to avoid the implementation of a local time zone offset\n",
    "utc_from = datetime(1994, 1, 1, tzinfo=timezone)\n",
    "utc_to = datetime(2021, 1, 1, tzinfo=timezone)\n",
    " \n",
    "rates = mt5.copy_rates_range(\"EURJPY\", mt5.TIMEFRAME_D1, utc_from, utc_to)\n",
    "rates_frame = pd.DataFrame(rates)\n",
    "\n",
    "# convert time in seconds into the datetime format\n",
    "rates_frame['time']=pd.to_datetime(rates_frame['time'], unit='s')\n",
    "\n",
    "# shut down connection to the MetaTrader 5 terminal\n",
    "mt5.shutdown()\n",
    "\n",
    "# display data\n",
    "rates_frame.head(10)"
   ]
  },
  {
   "cell_type": "code",
   "execution_count": 3,
   "id": "b51ceb4b",
   "metadata": {},
   "outputs": [],
   "source": [
    "rates_frame.set_index('time', inplace=True)\n",
    "rates_frame.index = pd.to_datetime(rates_frame.index)"
   ]
  },
  {
   "cell_type": "markdown",
   "id": "d6a2d32a",
   "metadata": {},
   "source": [
    "## ラベリング"
   ]
  },
  {
   "cell_type": "markdown",
   "id": "63d01bc2",
   "metadata": {},
   "source": [
    "### CUSUMフィルター(ローリング指数荷重標準偏差)"
   ]
  },
  {
   "cell_type": "code",
   "execution_count": 4,
   "id": "8fde7794",
   "metadata": {},
   "outputs": [],
   "source": [
    "def getDailyVol(close, span0=100):\n",
    "    # 日次ボラティリティ, closeに従いインデックス再作成(不要)\n",
    "    # df0 = (n+1日, n日)を作成しているだけ\n",
    "    # df0 = close.index.searchsorted(close.index - pd.Timedelta(days=1))\n",
    "    # df0 = df0[df0 > 0]\n",
    "    # df0 = pd.Series(close.index[df0 - 1], index=close.index[close.shape[0] - df0.shape[0]:])\n",
    "    \n",
    "    # 日次リターン\n",
    "    df0 = close.diff() / close\n",
    "    df0 = df0.ewm(span=span0).std()\n",
    "    \n",
    "    df0.columns = ['vol']\n",
    "\n",
    "    return df0.dropna()"
   ]
  },
  {
   "cell_type": "code",
   "execution_count": 5,
   "id": "20cfdfb6",
   "metadata": {
    "scrolled": true
   },
   "outputs": [],
   "source": [
    "close = rates_frame[['close']].copy()\n",
    "vol = getDailyVol(close)"
   ]
  },
  {
   "cell_type": "code",
   "execution_count": 6,
   "id": "2cd92db6",
   "metadata": {},
   "outputs": [],
   "source": [
    "def getTEvents(gRaw:pd.Series, h):\n",
    "    '''\n",
    "    本書のサンプルコード\n",
    "    '''\n",
    "    tEvents, sPos, sNeg = [], 0, 0\n",
    "    diff = gRaw.diff()\n",
    "    for i in diff.index[1:]:\n",
    "        sPos, sNeg = max(0, sPos + diff.loc[i]), min(0, sNeg + diff.loc[i])\n",
    "        if sNeg < -h:\n",
    "            sNeg = 0\n",
    "            tEvents.append(i)\n",
    "        elif sPos > h:\n",
    "            sPos = 0\n",
    "            tEvents.append(i)\n",
    "    \n",
    "    return pd.DatetimeIndex(tEvents)"
   ]
  },
  {
   "cell_type": "code",
   "execution_count": 7,
   "id": "6543f3e3",
   "metadata": {},
   "outputs": [
    {
     "name": "stdout",
     "output_type": "stream",
     "text": [
      "431\n"
     ]
    }
   ],
   "source": [
    "tEvents = getTEvents(vol['vol'], 0.0005)\n",
    "print(len(tEvents))"
   ]
  },
  {
   "cell_type": "code",
   "execution_count": 8,
   "id": "61c0a871",
   "metadata": {},
   "outputs": [
    {
     "data": {
      "text/plain": [
       "<matplotlib.collections.PathCollection at 0x2abd608c640>"
      ]
     },
     "execution_count": 8,
     "metadata": {},
     "output_type": "execute_result"
    },
    {
     "data": {
      "image/png": "[encoded data removed]",
      "text/plain": [
       "<Figure size 1728x864 with 1 Axes>"
      ]
     },
     "metadata": {
      "needs_background": "light"
     },
     "output_type": "display_data"
    }
   ],
   "source": [
    "close.plot(figsize=(24, 12))\n",
    "plt.scatter(x=tEvents, y=close.loc[tEvents], color='red')"
   ]
  },
  {
   "cell_type": "markdown",
   "id": "f7ae9221",
   "metadata": {},
   "source": [
    "### 垂直バリア:とりあえず10日?"
   ]
  },
  {
   "cell_type": "code",
   "execution_count": 9,
   "id": "b8ec81d2",
   "metadata": {},
   "outputs": [
    {
     "data": {
      "text/plain": [
       "1994-01-06   1994-01-17\n",
       "1994-01-07   1994-01-17\n",
       "1994-01-10   1994-01-20\n",
       "1994-01-13   1994-01-24\n",
       "1994-01-18   1994-01-28\n",
       "                ...    \n",
       "2020-05-29   2020-06-08\n",
       "2020-07-02   2020-07-13\n",
       "2020-07-27   2020-08-06\n",
       "2020-09-10   2020-09-21\n",
       "2020-12-18   2020-12-28\n",
       "Name: time, Length: 431, dtype: datetime64[ns]"
      ]
     },
     "execution_count": 9,
     "metadata": {},
     "output_type": "execute_result"
    }
   ],
   "source": [
    "numDays = 10\n",
    "t1 = close.index.searchsorted(tEvents + pd.Timedelta(days=numDays))\n",
    "t1 = t1[t1 < close.shape[0]]\n",
    "t1 = pd.Series(close.index[t1], index=tEvents[:t1.shape[0]])\n",
    "t1"
   ]
  },
  {
   "cell_type": "markdown",
   "id": "3e1bfc82",
   "metadata": {},
   "source": [
    "### 水平バリア: volの動的関数\n",
    "ボラティリティが高いときは、水平バリア(損切, 利食い)もある程度許容するような関数とする。  \n",
    "とりあえず、簡単のため3σにでもしておく。(利食い：損切=2:1)"
   ]
  },
  {
   "cell_type": "code",
   "execution_count": 10,
   "id": "02e25726",
   "metadata": {},
   "outputs": [
    {
     "data": {
      "text/plain": [
       "<AxesSubplot:xlabel='time'>"
      ]
     },
     "execution_count": 10,
     "metadata": {},
     "output_type": "execute_result"
    },
    {
     "data": {
      "image/png": "[encoded data removed]",
      "text/plain": [
       "<Figure size 432x288 with 1 Axes>"
      ]
     },
     "metadata": {
      "needs_background": "light"
     },
     "output_type": "display_data"
    },
    {
     "data": {
      "image/png": "[encoded data removed]",
      "text/plain": [
       "<Figure size 432x288 with 1 Axes>"
      ]
     },
     "metadata": {
      "needs_background": "light"
     },
     "output_type": "display_data"
    }
   ],
   "source": [
    "Return = close.diff() / close\n",
    "Return.plot()\n",
    "vol.plot()"
   ]
  },
  {
   "cell_type": "markdown",
   "id": "7937dc64",
   "metadata": {},
   "source": [
    "### トリプルバリア法"
   ]
  },
  {
   "cell_type": "code",
   "execution_count": 11,
   "id": "da19e017",
   "metadata": {},
   "outputs": [
    {
     "data": {
      "text/html": [
       "<div>\n",
       "<style scoped>\n",
       "    .dataframe tbody tr th:only-of-type {\n",
       "        vertical-align: middle;\n",
       "    }\n",
       "\n",
       "    .dataframe tbody tr th {\n",
       "        vertical-align: top;\n",
       "    }\n",
       "\n",
       "    .dataframe thead th {\n",
       "        text-align: right;\n",
       "    }\n",
       "</style>\n",
       "<table border=\"1\" class=\"dataframe\">\n",
       "  <thead>\n",
       "    <tr style=\"text-align: right;\">\n",
       "      <th></th>\n",
       "      <th>t1</th>\n",
       "      <th>trgt</th>\n",
       "    </tr>\n",
       "  </thead>\n",
       "  <tbody>\n",
       "    <tr>\n",
       "      <th>1994-01-06</th>\n",
       "      <td>1994-01-17</td>\n",
       "      <td>0.005394</td>\n",
       "    </tr>\n",
       "    <tr>\n",
       "      <th>1994-01-07</th>\n",
       "      <td>1994-01-17</td>\n",
       "      <td>0.004870</td>\n",
       "    </tr>\n",
       "    <tr>\n",
       "      <th>1994-01-10</th>\n",
       "      <td>1994-01-20</td>\n",
       "      <td>0.004254</td>\n",
       "    </tr>\n",
       "    <tr>\n",
       "      <th>1994-01-13</th>\n",
       "      <td>1994-01-24</td>\n",
       "      <td>0.006125</td>\n",
       "    </tr>\n",
       "    <tr>\n",
       "      <th>1994-01-18</th>\n",
       "      <td>1994-01-28</td>\n",
       "      <td>0.005556</td>\n",
       "    </tr>\n",
       "  </tbody>\n",
       "</table>\n",
       "</div>"
      ],
      "text/plain": [
       "                   t1      trgt\n",
       "1994-01-06 1994-01-17  0.005394\n",
       "1994-01-07 1994-01-17  0.004870\n",
       "1994-01-10 1994-01-20  0.004254\n",
       "1994-01-13 1994-01-24  0.006125\n",
       "1994-01-18 1994-01-28  0.005556"
      ]
     },
     "execution_count": 11,
     "metadata": {},
     "output_type": "execute_result"
    }
   ],
   "source": [
    "events = pd.DataFrame(t1)\n",
    "events.columns = ['t1']\n",
    "events['trgt'] = vol['vol']\n",
    "events.head()"
   ]
  },
  {
   "cell_type": "code",
   "execution_count": 12,
   "id": "dd2f0311",
   "metadata": {},
   "outputs": [],
   "source": [
    "ptSl = [2, 1]\n",
    "molecule = None\n",
    "\n",
    "def applyPtSlOnT1(close, events, ptSl, molecule):\n",
    "    # t1(イベント終了)前に行われた場合は、ストップロス/利食いを実施\n",
    "    events_ = events #.loc[molecule]\n",
    "    out = events_[['t1']].copy(deep=True)\n",
    "    \n",
    "    if ptSl[0] > 0:\n",
    "        pt = ptSl[0] * events_['trgt']\n",
    "    else:\n",
    "        pd.Series(index=events.index)\n",
    "    \n",
    "    if ptSl[1] > 0:\n",
    "        sl = -ptSl[1] * events_['trgt']\n",
    "    else:\n",
    "        pd.Series(index=events.index)\n",
    "    \n",
    "    for loc, t1 in events_['t1'].iteritems(): #(index, value)でiter\n",
    "        df0 = close[loc:t1] # 価格経路\n",
    "        df0 = (df0 / close.loc[loc] - 1) #* events_.at # リターン\n",
    "        \n",
    "        # ストップロスの最短タイミング\n",
    "        out.loc[loc, 'sl'] = df0[df0.values < sl[loc]].index.min()\n",
    "        # 利食いの最短タイミング\n",
    "        out.loc[loc, 'pt'] = df0[df0.values > pt[loc]].index.min()\n",
    "    \n",
    "    return out"
   ]
  },
  {
   "cell_type": "code",
   "execution_count": 13,
   "id": "51c51b20",
   "metadata": {},
   "outputs": [
    {
     "data": {
      "text/html": [
       "<div>\n",
       "<style scoped>\n",
       "    .dataframe tbody tr th:only-of-type {\n",
       "        vertical-align: middle;\n",
       "    }\n",
       "\n",
       "    .dataframe tbody tr th {\n",
       "        vertical-align: top;\n",
       "    }\n",
       "\n",
       "    .dataframe thead th {\n",
       "        text-align: right;\n",
       "    }\n",
       "</style>\n",
       "<table border=\"1\" class=\"dataframe\">\n",
       "  <thead>\n",
       "    <tr style=\"text-align: right;\">\n",
       "      <th></th>\n",
       "      <th>t1</th>\n",
       "      <th>sl</th>\n",
       "      <th>pt</th>\n",
       "    </tr>\n",
       "  </thead>\n",
       "  <tbody>\n",
       "    <tr>\n",
       "      <th>1994-01-06</th>\n",
       "      <td>1994-01-17</td>\n",
       "      <td>1994-01-13</td>\n",
       "      <td>NaT</td>\n",
       "    </tr>\n",
       "    <tr>\n",
       "      <th>1994-01-07</th>\n",
       "      <td>1994-01-17</td>\n",
       "      <td>1994-01-11</td>\n",
       "      <td>NaT</td>\n",
       "    </tr>\n",
       "    <tr>\n",
       "      <th>1994-01-10</th>\n",
       "      <td>1994-01-20</td>\n",
       "      <td>1994-01-13</td>\n",
       "      <td>NaT</td>\n",
       "    </tr>\n",
       "    <tr>\n",
       "      <th>1994-01-13</th>\n",
       "      <td>1994-01-24</td>\n",
       "      <td>1994-01-14</td>\n",
       "      <td>NaT</td>\n",
       "    </tr>\n",
       "    <tr>\n",
       "      <th>1994-01-18</th>\n",
       "      <td>1994-01-28</td>\n",
       "      <td>1994-01-26</td>\n",
       "      <td>1994-01-20</td>\n",
       "    </tr>\n",
       "    <tr>\n",
       "      <th>...</th>\n",
       "      <td>...</td>\n",
       "      <td>...</td>\n",
       "      <td>...</td>\n",
       "    </tr>\n",
       "    <tr>\n",
       "      <th>2020-05-29</th>\n",
       "      <td>2020-06-08</td>\n",
       "      <td>NaT</td>\n",
       "      <td>2020-06-02</td>\n",
       "    </tr>\n",
       "    <tr>\n",
       "      <th>2020-07-02</th>\n",
       "      <td>2020-07-13</td>\n",
       "      <td>NaT</td>\n",
       "      <td>NaT</td>\n",
       "    </tr>\n",
       "    <tr>\n",
       "      <th>2020-07-27</th>\n",
       "      <td>2020-08-06</td>\n",
       "      <td>2020-07-28</td>\n",
       "      <td>2020-08-05</td>\n",
       "    </tr>\n",
       "    <tr>\n",
       "      <th>2020-09-10</th>\n",
       "      <td>2020-09-21</td>\n",
       "      <td>2020-09-16</td>\n",
       "      <td>NaT</td>\n",
       "    </tr>\n",
       "    <tr>\n",
       "      <th>2020-12-18</th>\n",
       "      <td>2020-12-28</td>\n",
       "      <td>2020-12-22</td>\n",
       "      <td>NaT</td>\n",
       "    </tr>\n",
       "  </tbody>\n",
       "</table>\n",
       "<p>431 rows × 3 columns</p>\n",
       "</div>"
      ],
      "text/plain": [
       "                   t1         sl         pt\n",
       "1994-01-06 1994-01-17 1994-01-13        NaT\n",
       "1994-01-07 1994-01-17 1994-01-11        NaT\n",
       "1994-01-10 1994-01-20 1994-01-13        NaT\n",
       "1994-01-13 1994-01-24 1994-01-14        NaT\n",
       "1994-01-18 1994-01-28 1994-01-26 1994-01-20\n",
       "...               ...        ...        ...\n",
       "2020-05-29 2020-06-08        NaT 2020-06-02\n",
       "2020-07-02 2020-07-13        NaT        NaT\n",
       "2020-07-27 2020-08-06 2020-07-28 2020-08-05\n",
       "2020-09-10 2020-09-21 2020-09-16        NaT\n",
       "2020-12-18 2020-12-28 2020-12-22        NaT\n",
       "\n",
       "[431 rows x 3 columns]"
      ]
     },
     "execution_count": 13,
     "metadata": {},
     "output_type": "execute_result"
    }
   ],
   "source": [
    "events = applyPtSlOnT1(close, events, ptSl, None)\n",
    "events"
   ]
  },
  {
   "cell_type": "markdown",
   "id": "29210940",
   "metadata": {},
   "source": [
    "### ラベル付け"
   ]
  },
  {
   "cell_type": "markdown",
   "id": "4cde45f7",
   "metadata": {},
   "source": [
    "#### 2クラス分類モデル"
   ]
  },
  {
   "cell_type": "code",
   "execution_count": 14,
   "id": "22e8afbe",
   "metadata": {},
   "outputs": [],
   "source": [
    "def getBins(events, close):\n",
    "    #1) イベント発生時の価格\n",
    "    events_ = events.dropna(subset=['t1'])\n",
    "    px = events_.index.union(events_['t1'].values).drop_duplicates()\n",
    "    px = close.reindex(px, method='bfill')\n",
    "    \n",
    "    #2) outオブジェクトの生成\n",
    "    out = pd.DataFrame(index=events_.index)\n",
    "    out['ret'] = px.loc[events_['t1'].values].values / px.loc[events_.index] - 1\n",
    "    out['bin'] = np.sign(out['ret'])\n",
    "    return out"
   ]
  },
  {
   "cell_type": "code",
   "execution_count": 15,
   "id": "a4bd16c2",
   "metadata": {},
   "outputs": [
    {
     "data": {
      "text/html": [
       "<div>\n",
       "<style scoped>\n",
       "    .dataframe tbody tr th:only-of-type {\n",
       "        vertical-align: middle;\n",
       "    }\n",
       "\n",
       "    .dataframe tbody tr th {\n",
       "        vertical-align: top;\n",
       "    }\n",
       "\n",
       "    .dataframe thead th {\n",
       "        text-align: right;\n",
       "    }\n",
       "</style>\n",
       "<table border=\"1\" class=\"dataframe\">\n",
       "  <thead>\n",
       "    <tr style=\"text-align: right;\">\n",
       "      <th></th>\n",
       "      <th>ret</th>\n",
       "      <th>bin</th>\n",
       "    </tr>\n",
       "  </thead>\n",
       "  <tbody>\n",
       "    <tr>\n",
       "      <th>1994-01-06</th>\n",
       "      <td>-0.019092</td>\n",
       "      <td>-1.0</td>\n",
       "    </tr>\n",
       "    <tr>\n",
       "      <th>1994-01-07</th>\n",
       "      <td>-0.022808</td>\n",
       "      <td>-1.0</td>\n",
       "    </tr>\n",
       "    <tr>\n",
       "      <th>1994-01-10</th>\n",
       "      <td>-0.008847</td>\n",
       "      <td>-1.0</td>\n",
       "    </tr>\n",
       "    <tr>\n",
       "      <th>1994-01-13</th>\n",
       "      <td>-0.000640</td>\n",
       "      <td>-1.0</td>\n",
       "    </tr>\n",
       "    <tr>\n",
       "      <th>1994-01-18</th>\n",
       "      <td>-0.004432</td>\n",
       "      <td>-1.0</td>\n",
       "    </tr>\n",
       "  </tbody>\n",
       "</table>\n",
       "</div>"
      ],
      "text/plain": [
       "                 ret  bin\n",
       "1994-01-06 -0.019092 -1.0\n",
       "1994-01-07 -0.022808 -1.0\n",
       "1994-01-10 -0.008847 -1.0\n",
       "1994-01-13 -0.000640 -1.0\n",
       "1994-01-18 -0.004432 -1.0"
      ]
     },
     "execution_count": 15,
     "metadata": {},
     "output_type": "execute_result"
    }
   ],
   "source": [
    "labels = getBins(events, close)\n",
    "labels.head()"
   ]
  },
  {
   "cell_type": "code",
   "execution_count": 16,
   "id": "5c90c490",
   "metadata": {},
   "outputs": [
    {
     "data": {
      "text/plain": [
       "<AxesSubplot:>"
      ]
     },
     "execution_count": 16,
     "metadata": {},
     "output_type": "execute_result"
    },
    {
     "data": {
      "image/png": "[encoded data removed]",
      "text/plain": [
       "<Figure size 432x288 with 1 Axes>"
      ]
     },
     "metadata": {
      "needs_background": "light"
     },
     "output_type": "display_data"
    }
   ],
   "source": [
    "labels['bin'].hist()"
   ]
  },
  {
   "cell_type": "markdown",
   "id": "51cd36c5",
   "metadata": {},
   "source": [
    "#### 3クラス分類"
   ]
  },
  {
   "cell_type": "code",
   "execution_count": 17,
   "id": "d11df8e8",
   "metadata": {},
   "outputs": [],
   "source": [
    "def getBins_with0(events, close):\n",
    "    #1) イベント発生時の価格\n",
    "    events_ = events.dropna(subset=['t1'])\n",
    "    px = events_.index.union(events_['t1'].values).drop_duplicates()\n",
    "    px = close.reindex(px, method='bfill')\n",
    "    \n",
    "    #2) outオブジェクトの生成\n",
    "    out = pd.DataFrame(index=events_.index)\n",
    "    out['ret'] = px.loc[events_['t1'].values].values / px.loc[events_.index] - 1\n",
    "    \n",
    "    # 垂直バリアの場合は0\n",
    "    out.at[events[events['sl'].isnull() & events['pt'].isnull()].index, :] = 0\n",
    "    \n",
    "    out['bin'] = np.sign(out['ret'])\n",
    "    return out"
   ]
  },
  {
   "cell_type": "code",
   "execution_count": 18,
   "id": "603b6e37",
   "metadata": {},
   "outputs": [
    {
     "data": {
      "text/plain": [
       "<AxesSubplot:>"
      ]
     },
     "execution_count": 18,
     "metadata": {},
     "output_type": "execute_result"
    },
    {
     "data": {
      "image/png": "[encoded data removed]",
      "text/plain": [
       "<Figure size 432x288 with 1 Axes>"
      ]
     },
     "metadata": {
      "needs_background": "light"
     },
     "output_type": "display_data"
    }
   ],
   "source": [
    "labels = getBins_with0(events, close)\n",
    "labels['bin'].hist()"
   ]
  },
  {
   "cell_type": "code",
   "execution_count": 19,
   "id": "30b76507",
   "metadata": {},
   "outputs": [
    {
     "data": {
      "text/html": [
       "<div>\n",
       "<style scoped>\n",
       "    .dataframe tbody tr th:only-of-type {\n",
       "        vertical-align: middle;\n",
       "    }\n",
       "\n",
       "    .dataframe tbody tr th {\n",
       "        vertical-align: top;\n",
       "    }\n",
       "\n",
       "    .dataframe thead th {\n",
       "        text-align: right;\n",
       "    }\n",
       "</style>\n",
       "<table border=\"1\" class=\"dataframe\">\n",
       "  <thead>\n",
       "    <tr style=\"text-align: right;\">\n",
       "      <th></th>\n",
       "      <th>ret</th>\n",
       "      <th>bin</th>\n",
       "    </tr>\n",
       "  </thead>\n",
       "  <tbody>\n",
       "    <tr>\n",
       "      <th>1994-01-06</th>\n",
       "      <td>-0.019092</td>\n",
       "      <td>-1.0</td>\n",
       "    </tr>\n",
       "    <tr>\n",
       "      <th>1994-01-07</th>\n",
       "      <td>-0.022808</td>\n",
       "      <td>-1.0</td>\n",
       "    </tr>\n",
       "    <tr>\n",
       "      <th>1994-01-10</th>\n",
       "      <td>-0.008847</td>\n",
       "      <td>-1.0</td>\n",
       "    </tr>\n",
       "    <tr>\n",
       "      <th>1994-01-13</th>\n",
       "      <td>-0.000640</td>\n",
       "      <td>-1.0</td>\n",
       "    </tr>\n",
       "    <tr>\n",
       "      <th>1994-01-18</th>\n",
       "      <td>-0.004432</td>\n",
       "      <td>-1.0</td>\n",
       "    </tr>\n",
       "  </tbody>\n",
       "</table>\n",
       "</div>"
      ],
      "text/plain": [
       "                 ret  bin\n",
       "1994-01-06 -0.019092 -1.0\n",
       "1994-01-07 -0.022808 -1.0\n",
       "1994-01-10 -0.008847 -1.0\n",
       "1994-01-13 -0.000640 -1.0\n",
       "1994-01-18 -0.004432 -1.0"
      ]
     },
     "execution_count": 19,
     "metadata": {},
     "output_type": "execute_result"
    }
   ],
   "source": [
    "labels.head()"
   ]
  },
  {
   "cell_type": "markdown",
   "id": "aaf21156",
   "metadata": {},
   "source": [
    "### 一般的なテクニカル分析に基づくトレンドフォロー戦略"
   ]
  },
  {
   "cell_type": "code",
   "execution_count": 20,
   "id": "b0986e71",
   "metadata": {},
   "outputs": [],
   "source": [
    "def get_position_by_GC(events, close, term=[5, 25]):\n",
    "    '''\n",
    "    ゴールデンクロスに基づく\n",
    "    '''\n",
    "    df_tech = close.copy()\n",
    "    # MA計算\n",
    "    df_tech[f'MA{term[0]}'] = close.rolling(term[0]).mean()\n",
    "    df_tech[f'MA{term[1]}'] = close.rolling(term[1]).mean()\n",
    "    df_tech.dropna(inplace=True)\n",
    "    \n",
    "    # 位置判定\n",
    "    df_tech['position'] = (df_tech[f'MA{term[0]}'] > df_tech[f'MA{term[1]}']).astype(int)\n",
    "    df_tech['position'].replace(0, -1, inplace=True)\n",
    "    \n",
    "    # 取り出すインデックスを指定\n",
    "    index = events.index.intersection(df_tech.index)\n",
    "\n",
    "    return df_tech.loc[index]"
   ]
  },
  {
   "cell_type": "code",
   "execution_count": 21,
   "id": "811d96e1",
   "metadata": {},
   "outputs": [
    {
     "data": {
      "text/html": [
       "<div>\n",
       "<style scoped>\n",
       "    .dataframe tbody tr th:only-of-type {\n",
       "        vertical-align: middle;\n",
       "    }\n",
       "\n",
       "    .dataframe tbody tr th {\n",
       "        vertical-align: top;\n",
       "    }\n",
       "\n",
       "    .dataframe thead th {\n",
       "        text-align: right;\n",
       "    }\n",
       "</style>\n",
       "<table border=\"1\" class=\"dataframe\">\n",
       "  <thead>\n",
       "    <tr style=\"text-align: right;\">\n",
       "      <th></th>\n",
       "      <th>close</th>\n",
       "      <th>MA5</th>\n",
       "      <th>MA25</th>\n",
       "      <th>position</th>\n",
       "    </tr>\n",
       "  </thead>\n",
       "  <tbody>\n",
       "    <tr>\n",
       "      <th>1994-02-08</th>\n",
       "      <td>120.57</td>\n",
       "      <td>121.262</td>\n",
       "      <td>123.9876</td>\n",
       "      <td>-1</td>\n",
       "    </tr>\n",
       "    <tr>\n",
       "      <th>1994-02-11</th>\n",
       "      <td>118.47</td>\n",
       "      <td>120.144</td>\n",
       "      <td>123.1684</td>\n",
       "      <td>-1</td>\n",
       "    </tr>\n",
       "    <tr>\n",
       "      <th>1994-02-14</th>\n",
       "      <td>116.04</td>\n",
       "      <td>119.224</td>\n",
       "      <td>122.7460</td>\n",
       "      <td>-1</td>\n",
       "    </tr>\n",
       "    <tr>\n",
       "      <th>1994-02-18</th>\n",
       "      <td>119.48</td>\n",
       "      <td>117.732</td>\n",
       "      <td>121.5884</td>\n",
       "      <td>-1</td>\n",
       "    </tr>\n",
       "    <tr>\n",
       "      <th>1994-02-25</th>\n",
       "      <td>119.18</td>\n",
       "      <td>119.574</td>\n",
       "      <td>120.5916</td>\n",
       "      <td>-1</td>\n",
       "    </tr>\n",
       "  </tbody>\n",
       "</table>\n",
       "</div>"
      ],
      "text/plain": [
       "             close      MA5      MA25  position\n",
       "1994-02-08  120.57  121.262  123.9876        -1\n",
       "1994-02-11  118.47  120.144  123.1684        -1\n",
       "1994-02-14  116.04  119.224  122.7460        -1\n",
       "1994-02-18  119.48  117.732  121.5884        -1\n",
       "1994-02-25  119.18  119.574  120.5916        -1"
      ]
     },
     "execution_count": 21,
     "metadata": {},
     "output_type": "execute_result"
    }
   ],
   "source": [
    "position_GC = get_position_by_GC(events, close)\n",
    "position_GC.head()"
   ]
  },
  {
   "cell_type": "code",
   "execution_count": 22,
   "id": "bd0af111",
   "metadata": {},
   "outputs": [
    {
     "data": {
      "text/html": [
       "<div>\n",
       "<style scoped>\n",
       "    .dataframe tbody tr th:only-of-type {\n",
       "        vertical-align: middle;\n",
       "    }\n",
       "\n",
       "    .dataframe tbody tr th {\n",
       "        vertical-align: top;\n",
       "    }\n",
       "\n",
       "    .dataframe thead th {\n",
       "        text-align: right;\n",
       "    }\n",
       "</style>\n",
       "<table border=\"1\" class=\"dataframe\">\n",
       "  <thead>\n",
       "    <tr style=\"text-align: right;\">\n",
       "      <th></th>\n",
       "      <th>ret</th>\n",
       "      <th>bin</th>\n",
       "      <th>close</th>\n",
       "      <th>MA5</th>\n",
       "      <th>MA25</th>\n",
       "      <th>position</th>\n",
       "    </tr>\n",
       "  </thead>\n",
       "  <tbody>\n",
       "    <tr>\n",
       "      <th>1994-02-08</th>\n",
       "      <td>-0.009040</td>\n",
       "      <td>-1.0</td>\n",
       "      <td>120.57</td>\n",
       "      <td>121.262</td>\n",
       "      <td>123.9876</td>\n",
       "      <td>-1</td>\n",
       "    </tr>\n",
       "    <tr>\n",
       "      <th>1994-02-11</th>\n",
       "      <td>0.014265</td>\n",
       "      <td>1.0</td>\n",
       "      <td>118.47</td>\n",
       "      <td>120.144</td>\n",
       "      <td>123.1684</td>\n",
       "      <td>-1</td>\n",
       "    </tr>\n",
       "    <tr>\n",
       "      <th>1994-02-14</th>\n",
       "      <td>0.028266</td>\n",
       "      <td>1.0</td>\n",
       "      <td>116.04</td>\n",
       "      <td>119.224</td>\n",
       "      <td>122.7460</td>\n",
       "      <td>-1</td>\n",
       "    </tr>\n",
       "    <tr>\n",
       "      <th>1994-02-18</th>\n",
       "      <td>0.000000</td>\n",
       "      <td>0.0</td>\n",
       "      <td>119.48</td>\n",
       "      <td>117.732</td>\n",
       "      <td>121.5884</td>\n",
       "      <td>-1</td>\n",
       "    </tr>\n",
       "    <tr>\n",
       "      <th>1994-02-25</th>\n",
       "      <td>0.000000</td>\n",
       "      <td>0.0</td>\n",
       "      <td>119.18</td>\n",
       "      <td>119.574</td>\n",
       "      <td>120.5916</td>\n",
       "      <td>-1</td>\n",
       "    </tr>\n",
       "  </tbody>\n",
       "</table>\n",
       "</div>"
      ],
      "text/plain": [
       "                 ret  bin   close      MA5      MA25  position\n",
       "1994-02-08 -0.009040 -1.0  120.57  121.262  123.9876        -1\n",
       "1994-02-11  0.014265  1.0  118.47  120.144  123.1684        -1\n",
       "1994-02-14  0.028266  1.0  116.04  119.224  122.7460        -1\n",
       "1994-02-18  0.000000  0.0  119.48  117.732  121.5884        -1\n",
       "1994-02-25  0.000000  0.0  119.18  119.574  120.5916        -1"
      ]
     },
     "execution_count": 22,
     "metadata": {},
     "output_type": "execute_result"
    }
   ],
   "source": [
    "strategy = pd.merge(labels, position_GC, left_index=True, right_index=True)\n",
    "strategy.head()"
   ]
  },
  {
   "cell_type": "code",
   "execution_count": 23,
   "id": "a9593261",
   "metadata": {},
   "outputs": [
    {
     "data": {
      "text/plain": [
       "Text(0.5, 1.0, 'Total profit')"
      ]
     },
     "execution_count": 23,
     "metadata": {},
     "output_type": "execute_result"
    },
    {
     "data": {
      "image/png": "[encoded data removed]",
      "text/plain": [
       "<Figure size 432x288 with 1 Axes>"
      ]
     },
     "metadata": {
      "needs_background": "light"
     },
     "output_type": "display_data"
    }
   ],
   "source": [
    "Total_profit = strategy['ret'] * strategy['position']\n",
    "\n",
    "Total_profit.cumsum().plot()\n",
    "plt.title('Total profit')"
   ]
  },
  {
   "cell_type": "markdown",
   "id": "35bdad83",
   "metadata": {},
   "source": [
    "### ランダムフォレストによりトレードするかどうかを決定する\n",
    "<利用する特徴量>\n",
    "* ボラティリティ\n",
    "* 移動平均のクロス"
   ]
  },
  {
   "cell_type": "code",
   "execution_count": 24,
   "id": "0bdc6d5b",
   "metadata": {},
   "outputs": [
    {
     "data": {
      "text/html": [
       "<div>\n",
       "<style scoped>\n",
       "    .dataframe tbody tr th:only-of-type {\n",
       "        vertical-align: middle;\n",
       "    }\n",
       "\n",
       "    .dataframe tbody tr th {\n",
       "        vertical-align: top;\n",
       "    }\n",
       "\n",
       "    .dataframe thead th {\n",
       "        text-align: right;\n",
       "    }\n",
       "</style>\n",
       "<table border=\"1\" class=\"dataframe\">\n",
       "  <thead>\n",
       "    <tr style=\"text-align: right;\">\n",
       "      <th></th>\n",
       "      <th>ret</th>\n",
       "      <th>bin</th>\n",
       "      <th>close</th>\n",
       "      <th>MA5</th>\n",
       "      <th>MA25</th>\n",
       "      <th>position</th>\n",
       "      <th>vol</th>\n",
       "    </tr>\n",
       "  </thead>\n",
       "  <tbody>\n",
       "    <tr>\n",
       "      <th>1994-02-08</th>\n",
       "      <td>-0.009040</td>\n",
       "      <td>-1.0</td>\n",
       "      <td>120.57</td>\n",
       "      <td>121.262</td>\n",
       "      <td>123.9876</td>\n",
       "      <td>-1</td>\n",
       "      <td>0.005200</td>\n",
       "    </tr>\n",
       "    <tr>\n",
       "      <th>1994-02-11</th>\n",
       "      <td>0.014265</td>\n",
       "      <td>1.0</td>\n",
       "      <td>118.47</td>\n",
       "      <td>120.144</td>\n",
       "      <td>123.1684</td>\n",
       "      <td>-1</td>\n",
       "      <td>0.005980</td>\n",
       "    </tr>\n",
       "    <tr>\n",
       "      <th>1994-02-14</th>\n",
       "      <td>0.028266</td>\n",
       "      <td>1.0</td>\n",
       "      <td>116.04</td>\n",
       "      <td>119.224</td>\n",
       "      <td>122.7460</td>\n",
       "      <td>-1</td>\n",
       "      <td>0.006997</td>\n",
       "    </tr>\n",
       "    <tr>\n",
       "      <th>1994-02-18</th>\n",
       "      <td>0.000000</td>\n",
       "      <td>0.0</td>\n",
       "      <td>119.48</td>\n",
       "      <td>117.732</td>\n",
       "      <td>121.5884</td>\n",
       "      <td>-1</td>\n",
       "      <td>0.007581</td>\n",
       "    </tr>\n",
       "    <tr>\n",
       "      <th>1994-02-25</th>\n",
       "      <td>0.000000</td>\n",
       "      <td>0.0</td>\n",
       "      <td>119.18</td>\n",
       "      <td>119.574</td>\n",
       "      <td>120.5916</td>\n",
       "      <td>-1</td>\n",
       "      <td>0.007025</td>\n",
       "    </tr>\n",
       "  </tbody>\n",
       "</table>\n",
       "</div>"
      ],
      "text/plain": [
       "                 ret  bin   close      MA5      MA25  position       vol\n",
       "1994-02-08 -0.009040 -1.0  120.57  121.262  123.9876        -1  0.005200\n",
       "1994-02-11  0.014265  1.0  118.47  120.144  123.1684        -1  0.005980\n",
       "1994-02-14  0.028266  1.0  116.04  119.224  122.7460        -1  0.006997\n",
       "1994-02-18  0.000000  0.0  119.48  117.732  121.5884        -1  0.007581\n",
       "1994-02-25  0.000000  0.0  119.18  119.574  120.5916        -1  0.007025"
      ]
     },
     "execution_count": 24,
     "metadata": {},
     "output_type": "execute_result"
    }
   ],
   "source": [
    "XY = pd.merge(strategy, vol, left_index=True, right_index=True)\n",
    "XY.head()"
   ]
  },
  {
   "cell_type": "code",
   "execution_count": 25,
   "id": "196975db",
   "metadata": {},
   "outputs": [
    {
     "name": "stdout",
     "output_type": "stream",
     "text": [
      "425 340 85\n"
     ]
    }
   ],
   "source": [
    "len_dataset = len(XY)\n",
    "train_size = int(len_dataset * 0.8)\n",
    "test_size = len_dataset - train_size\n",
    "print(len_dataset, train_size, test_size)\n",
    "\n",
    "train = XY.iloc[:train_size, :]\n",
    "test = XY.iloc[train_size:, :]"
   ]
  },
  {
   "cell_type": "code",
   "execution_count": 26,
   "id": "943fa42a",
   "metadata": {},
   "outputs": [
    {
     "name": "stdout",
     "output_type": "stream",
     "text": [
      "10\n"
     ]
    },
    {
     "data": {
      "text/html": [
       "<div>\n",
       "<style scoped>\n",
       "    .dataframe tbody tr th:only-of-type {\n",
       "        vertical-align: middle;\n",
       "    }\n",
       "\n",
       "    .dataframe tbody tr th {\n",
       "        vertical-align: top;\n",
       "    }\n",
       "\n",
       "    .dataframe thead th {\n",
       "        text-align: right;\n",
       "    }\n",
       "</style>\n",
       "<table border=\"1\" class=\"dataframe\">\n",
       "  <thead>\n",
       "    <tr style=\"text-align: right;\">\n",
       "      <th></th>\n",
       "      <th>ret</th>\n",
       "      <th>bin</th>\n",
       "      <th>close</th>\n",
       "      <th>MA5</th>\n",
       "      <th>MA25</th>\n",
       "      <th>position</th>\n",
       "      <th>vol</th>\n",
       "    </tr>\n",
       "  </thead>\n",
       "  <tbody>\n",
       "    <tr>\n",
       "      <th>2013-08-15</th>\n",
       "      <td>0.013632</td>\n",
       "      <td>1.0</td>\n",
       "      <td>129.840</td>\n",
       "      <td>129.5032</td>\n",
       "      <td>130.44192</td>\n",
       "      <td>-1</td>\n",
       "      <td>0.007750</td>\n",
       "    </tr>\n",
       "    <tr>\n",
       "      <th>2013-09-13</th>\n",
       "      <td>0.009221</td>\n",
       "      <td>1.0</td>\n",
       "      <td>132.085</td>\n",
       "      <td>132.5300</td>\n",
       "      <td>130.98492</td>\n",
       "      <td>1</td>\n",
       "      <td>0.007198</td>\n",
       "    </tr>\n",
       "    <tr>\n",
       "      <th>2013-10-03</th>\n",
       "      <td>0.009982</td>\n",
       "      <td>1.0</td>\n",
       "      <td>132.437</td>\n",
       "      <td>132.5796</td>\n",
       "      <td>132.39632</td>\n",
       "      <td>1</td>\n",
       "      <td>0.006667</td>\n",
       "    </tr>\n",
       "    <tr>\n",
       "      <th>2013-10-29</th>\n",
       "      <td>-0.019082</td>\n",
       "      <td>-1.0</td>\n",
       "      <td>134.942</td>\n",
       "      <td>134.4718</td>\n",
       "      <td>133.28292</td>\n",
       "      <td>1</td>\n",
       "      <td>0.006117</td>\n",
       "    </tr>\n",
       "    <tr>\n",
       "      <th>2013-12-24</th>\n",
       "      <td>-0.001234</td>\n",
       "      <td>-1.0</td>\n",
       "      <td>142.602</td>\n",
       "      <td>142.4912</td>\n",
       "      <td>140.08224</td>\n",
       "      <td>1</td>\n",
       "      <td>0.005795</td>\n",
       "    </tr>\n",
       "  </tbody>\n",
       "</table>\n",
       "</div>"
      ],
      "text/plain": [
       "                 ret  bin    close       MA5       MA25  position       vol\n",
       "2013-08-15  0.013632  1.0  129.840  129.5032  130.44192        -1  0.007750\n",
       "2013-09-13  0.009221  1.0  132.085  132.5300  130.98492         1  0.007198\n",
       "2013-10-03  0.009982  1.0  132.437  132.5796  132.39632         1  0.006667\n",
       "2013-10-29 -0.019082 -1.0  134.942  134.4718  133.28292         1  0.006117\n",
       "2013-12-24 -0.001234 -1.0  142.602  142.4912  140.08224         1  0.005795"
      ]
     },
     "metadata": {},
     "output_type": "display_data"
    },
    {
     "data": {
      "text/html": [
       "<div>\n",
       "<style scoped>\n",
       "    .dataframe tbody tr th:only-of-type {\n",
       "        vertical-align: middle;\n",
       "    }\n",
       "\n",
       "    .dataframe tbody tr th {\n",
       "        vertical-align: top;\n",
       "    }\n",
       "\n",
       "    .dataframe thead th {\n",
       "        text-align: right;\n",
       "    }\n",
       "</style>\n",
       "<table border=\"1\" class=\"dataframe\">\n",
       "  <thead>\n",
       "    <tr style=\"text-align: right;\">\n",
       "      <th></th>\n",
       "      <th>ret</th>\n",
       "      <th>bin</th>\n",
       "      <th>close</th>\n",
       "      <th>MA5</th>\n",
       "      <th>MA25</th>\n",
       "      <th>position</th>\n",
       "      <th>vol</th>\n",
       "    </tr>\n",
       "  </thead>\n",
       "  <tbody>\n",
       "    <tr>\n",
       "      <th>2014-01-31</th>\n",
       "      <td>0.014356</td>\n",
       "      <td>1.0</td>\n",
       "      <td>137.499</td>\n",
       "      <td>139.5720</td>\n",
       "      <td>141.79968</td>\n",
       "      <td>-1</td>\n",
       "      <td>0.006148</td>\n",
       "    </tr>\n",
       "    <tr>\n",
       "      <th>2014-02-25</th>\n",
       "      <td>0.019782</td>\n",
       "      <td>1.0</td>\n",
       "      <td>140.481</td>\n",
       "      <td>140.5954</td>\n",
       "      <td>139.68596</td>\n",
       "      <td>1</td>\n",
       "      <td>0.005648</td>\n",
       "    </tr>\n",
       "    <tr>\n",
       "      <th>2014-04-11</th>\n",
       "      <td>0.000000</td>\n",
       "      <td>0.0</td>\n",
       "      <td>141.103</td>\n",
       "      <td>141.0828</td>\n",
       "      <td>141.62780</td>\n",
       "      <td>-1</td>\n",
       "      <td>0.005440</td>\n",
       "    </tr>\n",
       "    <tr>\n",
       "      <th>2014-04-29</th>\n",
       "      <td>-0.011547</td>\n",
       "      <td>-1.0</td>\n",
       "      <td>141.770</td>\n",
       "      <td>141.6378</td>\n",
       "      <td>141.47960</td>\n",
       "      <td>1</td>\n",
       "      <td>0.004910</td>\n",
       "    </tr>\n",
       "    <tr>\n",
       "      <th>2014-05-22</th>\n",
       "      <td>0.000000</td>\n",
       "      <td>0.0</td>\n",
       "      <td>138.952</td>\n",
       "      <td>138.9300</td>\n",
       "      <td>140.73264</td>\n",
       "      <td>-1</td>\n",
       "      <td>0.004379</td>\n",
       "    </tr>\n",
       "  </tbody>\n",
       "</table>\n",
       "</div>"
      ],
      "text/plain": [
       "                 ret  bin    close       MA5       MA25  position       vol\n",
       "2014-01-31  0.014356  1.0  137.499  139.5720  141.79968        -1  0.006148\n",
       "2014-02-25  0.019782  1.0  140.481  140.5954  139.68596         1  0.005648\n",
       "2014-04-11  0.000000  0.0  141.103  141.0828  141.62780        -1  0.005440\n",
       "2014-04-29 -0.011547 -1.0  141.770  141.6378  141.47960         1  0.004910\n",
       "2014-05-22  0.000000  0.0  138.952  138.9300  140.73264        -1  0.004379"
      ]
     },
     "metadata": {},
     "output_type": "display_data"
    }
   ],
   "source": [
    "print(numDays)\n",
    "display(train.tail())\n",
    "display(test.head())"
   ]
  },
  {
   "cell_type": "markdown",
   "id": "1cb252b3",
   "metadata": {},
   "source": [
    "リークの問題はなさそう"
   ]
  },
  {
   "cell_type": "code",
   "execution_count": 27,
   "id": "d320aa1f",
   "metadata": {},
   "outputs": [],
   "source": [
    "X_labels = ['position', 'vol']\n",
    "Y_label = ['bin']\n",
    "\n",
    "train_X, train_Y = train[X_labels], train[Y_label].replace(-1, 1)\n",
    "test_X, test_Y = test[X_labels], test[Y_label].replace(-1, 1)"
   ]
  },
  {
   "cell_type": "code",
   "execution_count": 28,
   "id": "c3b2f92f",
   "metadata": {},
   "outputs": [],
   "source": [
    "from sklearn.ensemble import RandomForestClassifier"
   ]
  },
  {
   "cell_type": "code",
   "execution_count": 29,
   "id": "fa98228f",
   "metadata": {},
   "outputs": [
    {
     "name": "stdout",
     "output_type": "stream",
     "text": [
      "score= 0.6235294117647059\n"
     ]
    }
   ],
   "source": [
    "clf = RandomForestClassifier(random_state=0)\n",
    "clf.fit(train_X, train_Y.values.ravel())\n",
    "pred_y = clf.predict(test_X)\n",
    "\n",
    "print(\"score=\", clf.score(test_X, test_Y))"
   ]
  },
  {
   "cell_type": "code",
   "execution_count": 30,
   "id": "6a142b74",
   "metadata": {},
   "outputs": [
    {
     "data": {
      "text/html": [
       "<div>\n",
       "<style scoped>\n",
       "    .dataframe tbody tr th:only-of-type {\n",
       "        vertical-align: middle;\n",
       "    }\n",
       "\n",
       "    .dataframe tbody tr th {\n",
       "        vertical-align: top;\n",
       "    }\n",
       "\n",
       "    .dataframe thead th {\n",
       "        text-align: right;\n",
       "    }\n",
       "</style>\n",
       "<table border=\"1\" class=\"dataframe\">\n",
       "  <thead>\n",
       "    <tr style=\"text-align: right;\">\n",
       "      <th></th>\n",
       "      <th>ret</th>\n",
       "      <th>bin</th>\n",
       "      <th>close</th>\n",
       "      <th>MA5</th>\n",
       "      <th>MA25</th>\n",
       "      <th>position</th>\n",
       "      <th>vol</th>\n",
       "      <th>pred_invest</th>\n",
       "    </tr>\n",
       "  </thead>\n",
       "  <tbody>\n",
       "    <tr>\n",
       "      <th>2014-01-31</th>\n",
       "      <td>0.014356</td>\n",
       "      <td>1.0</td>\n",
       "      <td>137.499</td>\n",
       "      <td>139.5720</td>\n",
       "      <td>141.79968</td>\n",
       "      <td>-1</td>\n",
       "      <td>0.006148</td>\n",
       "      <td>1.0</td>\n",
       "    </tr>\n",
       "    <tr>\n",
       "      <th>2014-02-25</th>\n",
       "      <td>0.019782</td>\n",
       "      <td>1.0</td>\n",
       "      <td>140.481</td>\n",
       "      <td>140.5954</td>\n",
       "      <td>139.68596</td>\n",
       "      <td>1</td>\n",
       "      <td>0.005648</td>\n",
       "      <td>1.0</td>\n",
       "    </tr>\n",
       "    <tr>\n",
       "      <th>2014-04-11</th>\n",
       "      <td>0.000000</td>\n",
       "      <td>0.0</td>\n",
       "      <td>141.103</td>\n",
       "      <td>141.0828</td>\n",
       "      <td>141.62780</td>\n",
       "      <td>-1</td>\n",
       "      <td>0.005440</td>\n",
       "      <td>1.0</td>\n",
       "    </tr>\n",
       "    <tr>\n",
       "      <th>2014-04-29</th>\n",
       "      <td>-0.011547</td>\n",
       "      <td>1.0</td>\n",
       "      <td>141.770</td>\n",
       "      <td>141.6378</td>\n",
       "      <td>141.47960</td>\n",
       "      <td>1</td>\n",
       "      <td>0.004910</td>\n",
       "      <td>1.0</td>\n",
       "    </tr>\n",
       "    <tr>\n",
       "      <th>2014-05-22</th>\n",
       "      <td>0.000000</td>\n",
       "      <td>0.0</td>\n",
       "      <td>138.952</td>\n",
       "      <td>138.9300</td>\n",
       "      <td>140.73264</td>\n",
       "      <td>-1</td>\n",
       "      <td>0.004379</td>\n",
       "      <td>1.0</td>\n",
       "    </tr>\n",
       "  </tbody>\n",
       "</table>\n",
       "</div>"
      ],
      "text/plain": [
       "                 ret  bin    close       MA5       MA25  position       vol  \\\n",
       "2014-01-31  0.014356  1.0  137.499  139.5720  141.79968        -1  0.006148   \n",
       "2014-02-25  0.019782  1.0  140.481  140.5954  139.68596         1  0.005648   \n",
       "2014-04-11  0.000000  0.0  141.103  141.0828  141.62780        -1  0.005440   \n",
       "2014-04-29 -0.011547  1.0  141.770  141.6378  141.47960         1  0.004910   \n",
       "2014-05-22  0.000000  0.0  138.952  138.9300  140.73264        -1  0.004379   \n",
       "\n",
       "            pred_invest  \n",
       "2014-01-31          1.0  \n",
       "2014-02-25          1.0  \n",
       "2014-04-11          1.0  \n",
       "2014-04-29          1.0  \n",
       "2014-05-22          1.0  "
      ]
     },
     "execution_count": 30,
     "metadata": {},
     "output_type": "execute_result"
    }
   ],
   "source": [
    "result = test.copy()\n",
    "result['bin'] = result['bin'].replace(-1, 1) \n",
    "result['pred_invest'] = pred_y\n",
    "result.head()"
   ]
  },
  {
   "cell_type": "code",
   "execution_count": 31,
   "id": "a915a94b",
   "metadata": {},
   "outputs": [],
   "source": [
    "Total_Return_test1 = result['ret'] * result['position']\n",
    "Total_Return_test2 = result['ret'] * result['position'] * result['pred_invest']"
   ]
  },
  {
   "cell_type": "code",
   "execution_count": 38,
   "id": "ad12f3c6",
   "metadata": {},
   "outputs": [
    {
     "data": {
      "text/plain": [
       "Text(0.5, 1.0, 'Techinical Strategy × RandomForest')"
      ]
     },
     "execution_count": 38,
     "metadata": {},
     "output_type": "execute_result"
    },
    {
     "data": {
      "image/png": "[encoded data removed]",
      "text/plain": [
       "<Figure size 864x288 with 2 Axes>"
      ]
     },
     "metadata": {
      "needs_background": "light"
     },
     "output_type": "display_data"
    }
   ],
   "source": [
    "plt.figure(figsize=(12, 4))\n",
    "plt.subplot(1, 2, 1)\n",
    "Total_Return_test1.cumsum().plot()\n",
    "plt.title('Only Technical Strategy')\n",
    "\n",
    "plt.subplot(1, 2, 2)\n",
    "Total_Return_test2.cumsum().plot()\n",
    "plt.title('Techinical Strategy × RandomForest')"
   ]
  },
  {
   "cell_type": "code",
   "execution_count": null,
   "id": "fad65c8f",
   "metadata": {},
   "outputs": [],
   "source": []
  }
 ],
 "metadata": {
  "kernelspec": {
   "display_name": "Python 3",
   "language": "python",
   "name": "python3"
  },
  "language_info": {
   "codemirror_mode": {
    "name": "ipython",
    "version": 3
   },
   "file_extension": ".py",
   "mimetype": "text/x-python",
   "name": "python",
   "nbconvert_exporter": "python",
   "pygments_lexer": "ipython3",
   "version": "3.8.8"
  }
 },
 "nbformat": 4,
 "nbformat_minor": 5
}
